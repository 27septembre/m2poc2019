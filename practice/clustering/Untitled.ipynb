{
 "cells": [
  {
   "cell_type": "code",
   "execution_count": 1,
   "metadata": {},
   "outputs": [
    {
     "name": "stderr",
     "output_type": "stream",
     "text": [
      "/home8/homedir3/perso/gmaze/miniconda3/envs/obidam36/lib/python3.6/site-packages/distributed/bokeh/core.py:57: UserWarning: \n",
      "Port 8787 is already in use. \n",
      "Perhaps you already have a cluster running?\n",
      "Hosting the diagnostics dashboard on a random port instead.\n",
      "  warnings.warn('\\n' + msg)\n"
     ]
    },
    {
     "data": {
      "text/html": [
       "<table style=\"border: 2px solid white;\">\n",
       "<tr>\n",
       "<td style=\"vertical-align: top; border: 0px solid white\">\n",
       "<h3>Client</h3>\n",
       "<ul>\n",
       "  <li><b>Scheduler: </b>inproc://134.246.146.54/1724/1\n",
       "  <li><b>Dashboard: </b><a href='http://localhost:48827/status' target='_blank'>http://localhost:48827/status</a>\n",
       "</ul>\n",
       "</td>\n",
       "<td style=\"vertical-align: top; border: 0px solid white\">\n",
       "<h3>Cluster</h3>\n",
       "<ul>\n",
       "  <li><b>Workers: </b>1</li>\n",
       "  <li><b>Cores: </b>32</li>\n",
       "  <li><b>Memory: </b>67.48 GB</li>\n",
       "</ul>\n",
       "</td>\n",
       "</tr>\n",
       "</table>"
      ],
      "text/plain": [
       "<Client: scheduler='inproc://134.246.146.54/1724/1' processes=1 cores=32>"
      ]
     },
     "execution_count": 1,
     "metadata": {},
     "output_type": "execute_result"
    }
   ],
   "source": [
    "import xarray as xr\n",
    "from sklearn_xarray import wrap\n",
    "from dask_ml.preprocessing import StandardScaler\n",
    "import intake\n",
    "from dask.distributed import Client\n",
    "# client = Client(\"tcp://127.0.0.1:30730\",processes=False)\n",
    "client = Client(processes=False)\n",
    "client"
   ]
  },
  {
   "cell_type": "code",
   "execution_count": 8,
   "metadata": {},
   "outputs": [
    {
     "name": "stdout",
     "output_type": "stream",
     "text": [
      "<xarray.DataArray 'ARGO' (feature: 2, N_PROF: 128910)>\n",
      "dask.array<shape=(2, 128910), dtype=float32, chunksize=(1, 10000)>\n",
      "Coordinates:\n",
      "    LATITUDE   (N_PROF) float32 dask.array<shape=(128910,), chunksize=(10000,)>\n",
      "    LONGITUDE  (N_PROF) float32 dask.array<shape=(128910,), chunksize=(10000,)>\n",
      "    TIME       (N_PROF) datetime64[ns] dask.array<shape=(128910,), chunksize=(10000,)>\n",
      "    DEPTH      (feature) float32 dask.array<shape=(2,), chunksize=(2,)>\n",
      "Dimensions without coordinates: feature, N_PROF\n",
      "Attributes:\n",
      "    feature_0:  TEMP at 0.00m depth\n",
      "    feature_1:  TEMP at -1000.00m depth\n"
     ]
    }
   ],
   "source": [
    "catalog_url = 'https://raw.githubusercontent.com/obidam/m2poc2019/master/m2poc_data_catalog.yml'\n",
    "ds = intake.Catalog(catalog_url).argo_global_homogeneous_sdl.read_chunked()\n",
    "feat_0 = ds.TEMP.sel(DEPTH=0, method='nearest')\n",
    "feat_1 = ds.TEMP.sel(DEPTH=-1000, method='nearest')\n",
    "RES = xr.concat([feat_0, feat_1], dim='feature').chunk(chunks={'N_PROF':10000})\n",
    "RES = RES.rename('ARGO')\n",
    "# Remove obsolete attributes:\n",
    "for a in RES.attrs.copy(): \n",
    "    del RES.attrs[a]\n",
    "# Add feature names:\n",
    "RES.attrs['feature_0'] = \"%s at %0.2fm depth\"%(feat_0.name,feat_0['DEPTH'])\n",
    "RES.attrs['feature_1'] = \"%s at %0.2fm depth\"%(feat_1.name,feat_1['DEPTH'])\n",
    "# We're good:\n",
    "print(RES)"
   ]
  },
  {
   "cell_type": "code",
   "execution_count": 14,
   "metadata": {},
   "outputs": [
    {
     "name": "stdout",
     "output_type": "stream",
     "text": [
      "(128910, 2)\n"
     ]
    }
   ],
   "source": [
    "X = xr.DataArray(RES.values.T, dims=['sample','feature'])\n",
    "print(X.values.shape)"
   ]
  },
  {
   "cell_type": "code",
   "execution_count": 17,
   "metadata": {},
   "outputs": [
    {
     "name": "stdout",
     "output_type": "stream",
     "text": [
      "CPU times: user 3 ms, sys: 1e+03 µs, total: 4 ms\n",
      "Wall time: 2.3 ms\n",
      "[-9.5641155e-08  2.3862941e-07]\n",
      "[1.        0.9999999]\n"
     ]
    },
    {
     "data": {
      "text/plain": [
       "<xarray.DataArray (sample: 128910, feature: 2)>\n",
       "array([[-1.551811, -1.29166 ],\n",
       "       [-1.82948 , -1.280055],\n",
       "       [-1.588464, -1.29136 ],\n",
       "       ...,\n",
       "       [-1.656578, -0.882205],\n",
       "       [-0.824594, -0.895902],\n",
       "       [-1.067999, -0.828581]], dtype=float32)\n",
       "Dimensions without coordinates: sample, feature"
      ]
     },
     "execution_count": 17,
     "metadata": {},
     "output_type": "execute_result"
    }
   ],
   "source": [
    "# scaler = wrap(StandardScaler(), sample_dim='N_PROF')\n",
    "scaler = wrap(StandardScaler(), sample_dim='sample')\n",
    "%time scaler.fit(X)\n",
    "print(scaler.estimator_.mean_)\n",
    "print(scaler.estimator_.scale_)\n",
    "scaler.transform(X)"
   ]
  },
  {
   "cell_type": "code",
   "execution_count": 40,
   "metadata": {},
   "outputs": [
    {
     "name": "stderr",
     "output_type": "stream",
     "text": [
      "distributed.client - WARNING - Couldn't gather 1 keys, rescheduling {\"('xarray-DEPTH-f8a0f43e839eead34589b4da32f05b82', 0)\": []}\n",
      "distributed.client - WARNING - Couldn't gather 1 keys, rescheduling {\"('xarray-DEPTH-f8a0f43e839eead34589b4da32f05b82', 0)\": []}\n",
      "distributed.client - WARNING - Couldn't gather 1 keys, rescheduling {\"('xarray-DEPTH-f8a0f43e839eead34589b4da32f05b82', 0)\": []}\n",
      "distributed.client - WARNING - Couldn't gather 1 keys, rescheduling {\"('xarray-DEPTH-f8a0f43e839eead34589b4da32f05b82', 0)\": []}\n",
      "distributed.client - WARNING - Couldn't gather 1 keys, rescheduling {\"('xarray-DEPTH-f8a0f43e839eead34589b4da32f05b82', 0)\": []}\n",
      "distributed.client - WARNING - Couldn't gather 1 keys, rescheduling {\"('xarray-DEPTH-f8a0f43e839eead34589b4da32f05b82', 0)\": []}\n",
      "distributed.client - WARNING - Couldn't gather 1 keys, rescheduling {\"('xarray-DEPTH-f8a0f43e839eead34589b4da32f05b82', 0)\": []}\n",
      "distributed.client - WARNING - Couldn't gather 1 keys, rescheduling {\"('xarray-DEPTH-f8a0f43e839eead34589b4da32f05b82', 0)\": []}\n",
      "distributed.client - WARNING - Couldn't gather 1 keys, rescheduling {\"('xarray-DEPTH-f8a0f43e839eead34589b4da32f05b82', 0)\": []}\n",
      "distributed.client - WARNING - Couldn't gather 1 keys, rescheduling {\"('xarray-DEPTH-f8a0f43e839eead34589b4da32f05b82', 0)\": []}\n",
      "distributed.client - WARNING - Couldn't gather 1 keys, rescheduling {\"('xarray-DEPTH-f8a0f43e839eead34589b4da32f05b82', 0)\": []}\n",
      "distributed.client - WARNING - Couldn't gather 1 keys, rescheduling {\"('xarray-DEPTH-f8a0f43e839eead34589b4da32f05b82', 0)\": []}\n",
      "distributed.client - WARNING - Couldn't gather 1 keys, rescheduling {\"('xarray-DEPTH-f8a0f43e839eead34589b4da32f05b82', 0)\": []}\n",
      "distributed.client - WARNING - Couldn't gather 1 keys, rescheduling {\"('xarray-DEPTH-f8a0f43e839eead34589b4da32f05b82', 0)\": []}\n",
      "distributed.client - WARNING - Couldn't gather 1 keys, rescheduling {\"('xarray-DEPTH-f8a0f43e839eead34589b4da32f05b82', 0)\": []}\n",
      "distributed.client - WARNING - Couldn't gather 1 keys, rescheduling {\"('xarray-DEPTH-f8a0f43e839eead34589b4da32f05b82', 0)\": []}\n",
      "distributed.client - WARNING - Couldn't gather 1 keys, rescheduling {\"('xarray-DEPTH-f8a0f43e839eead34589b4da32f05b82', 0)\": []}\n",
      "distributed.client - WARNING - Couldn't gather 1 keys, rescheduling {\"('xarray-DEPTH-f8a0f43e839eead34589b4da32f05b82', 0)\": []}\n",
      "distributed.client - WARNING - Couldn't gather 1 keys, rescheduling {\"('xarray-DEPTH-f8a0f43e839eead34589b4da32f05b82', 0)\": []}\n",
      "distributed.client - WARNING - Couldn't gather 1 keys, rescheduling {\"('xarray-DEPTH-f8a0f43e839eead34589b4da32f05b82', 0)\": []}\n",
      "distributed.client - WARNING - Couldn't gather 1 keys, rescheduling {\"('xarray-DEPTH-f8a0f43e839eead34589b4da32f05b82', 0)\": []}\n",
      "distributed.client - WARNING - Couldn't gather 1 keys, rescheduling {\"('xarray-DEPTH-f8a0f43e839eead34589b4da32f05b82', 0)\": []}\n",
      "distributed.client - WARNING - Couldn't gather 1 keys, rescheduling {\"('xarray-DEPTH-f8a0f43e839eead34589b4da32f05b82', 0)\": []}\n",
      "distributed.client - WARNING - Couldn't gather 1 keys, rescheduling {\"('xarray-DEPTH-f8a0f43e839eead34589b4da32f05b82', 0)\": []}\n",
      "distributed.client - WARNING - Couldn't gather 1 keys, rescheduling {\"('xarray-DEPTH-f8a0f43e839eead34589b4da32f05b82', 0)\": []}\n",
      "distributed.client - WARNING - Couldn't gather 1 keys, rescheduling {\"('xarray-DEPTH-f8a0f43e839eead34589b4da32f05b82', 0)\": []}\n",
      "distributed.client - WARNING - Couldn't gather 1 keys, rescheduling {\"('xarray-DEPTH-f8a0f43e839eead34589b4da32f05b82', 0)\": []}\n",
      "distributed.client - WARNING - Couldn't gather 1 keys, rescheduling {\"('xarray-DEPTH-f8a0f43e839eead34589b4da32f05b82', 0)\": []}\n",
      "distributed.client - WARNING - Couldn't gather 1 keys, rescheduling {\"('xarray-DEPTH-f8a0f43e839eead34589b4da32f05b82', 0)\": []}\n",
      "distributed.client - WARNING - Couldn't gather 1 keys, rescheduling {\"('xarray-DEPTH-f8a0f43e839eead34589b4da32f05b82', 0)\": []}\n",
      "distributed.client - WARNING - Couldn't gather 1 keys, rescheduling {\"('xarray-DEPTH-f8a0f43e839eead34589b4da32f05b82', 0)\": []}\n",
      "distributed.client - WARNING - Couldn't gather 1 keys, rescheduling {\"('xarray-DEPTH-f8a0f43e839eead34589b4da32f05b82', 0)\": []}\n",
      "distributed.client - WARNING - Couldn't gather 1 keys, rescheduling {\"('xarray-DEPTH-f8a0f43e839eead34589b4da32f05b82', 0)\": []}\n",
      "distributed.client - WARNING - Couldn't gather 1 keys, rescheduling {\"('xarray-DEPTH-f8a0f43e839eead34589b4da32f05b82', 0)\": []}\n",
      "distributed.client - WARNING - Couldn't gather 1 keys, rescheduling {\"('xarray-DEPTH-f8a0f43e839eead34589b4da32f05b82', 0)\": []}\n",
      "distributed.client - WARNING - Couldn't gather 1 keys, rescheduling {\"('xarray-DEPTH-f8a0f43e839eead34589b4da32f05b82', 0)\": []}\n",
      "distributed.client - WARNING - Couldn't gather 1 keys, rescheduling {\"('xarray-DEPTH-f8a0f43e839eead34589b4da32f05b82', 0)\": []}\n",
      "distributed.client - WARNING - Couldn't gather 1 keys, rescheduling {\"('xarray-DEPTH-f8a0f43e839eead34589b4da32f05b82', 0)\": []}\n",
      "distributed.client - WARNING - Couldn't gather 1 keys, rescheduling {\"('xarray-DEPTH-f8a0f43e839eead34589b4da32f05b82', 0)\": []}\n",
      "distributed.client - WARNING - Couldn't gather 1 keys, rescheduling {\"('xarray-DEPTH-f8a0f43e839eead34589b4da32f05b82', 0)\": []}\n",
      "distributed.client - WARNING - Couldn't gather 1 keys, rescheduling {\"('xarray-DEPTH-f8a0f43e839eead34589b4da32f05b82', 0)\": []}\n",
      "distributed.client - WARNING - Couldn't gather 1 keys, rescheduling {\"('xarray-DEPTH-f8a0f43e839eead34589b4da32f05b82', 0)\": []}\n",
      "distributed.client - WARNING - Couldn't gather 1 keys, rescheduling {\"('xarray-DEPTH-f8a0f43e839eead34589b4da32f05b82', 0)\": []}\n",
      "distributed.client - WARNING - Couldn't gather 1 keys, rescheduling {\"('xarray-DEPTH-f8a0f43e839eead34589b4da32f05b82', 0)\": []}\n",
      "distributed.client - WARNING - Couldn't gather 1 keys, rescheduling {\"('xarray-DEPTH-f8a0f43e839eead34589b4da32f05b82', 0)\": []}\n",
      "distributed.client - WARNING - Couldn't gather 1 keys, rescheduling {\"('xarray-DEPTH-f8a0f43e839eead34589b4da32f05b82', 0)\": []}\n",
      "distributed.client - WARNING - Couldn't gather 1 keys, rescheduling {\"('xarray-DEPTH-f8a0f43e839eead34589b4da32f05b82', 0)\": []}\n",
      "distributed.client - WARNING - Couldn't gather 1 keys, rescheduling {\"('xarray-DEPTH-f8a0f43e839eead34589b4da32f05b82', 0)\": []}\n",
      "distributed.client - WARNING - Couldn't gather 1 keys, rescheduling {\"('xarray-DEPTH-f8a0f43e839eead34589b4da32f05b82', 0)\": []}\n",
      "distributed.client - WARNING - Couldn't gather 1 keys, rescheduling {\"('xarray-DEPTH-f8a0f43e839eead34589b4da32f05b82', 0)\": []}\n",
      "distributed.client - WARNING - Couldn't gather 1 keys, rescheduling {\"('xarray-DEPTH-f8a0f43e839eead34589b4da32f05b82', 0)\": []}\n",
      "distributed.client - WARNING - Couldn't gather 1 keys, rescheduling {\"('xarray-DEPTH-f8a0f43e839eead34589b4da32f05b82', 0)\": []}\n",
      "distributed.client - WARNING - Couldn't gather 1 keys, rescheduling {\"('xarray-DEPTH-f8a0f43e839eead34589b4da32f05b82', 0)\": []}\n",
      "distributed.client - WARNING - Couldn't gather 1 keys, rescheduling {\"('xarray-DEPTH-f8a0f43e839eead34589b4da32f05b82', 0)\": []}\n",
      "distributed.client - WARNING - Couldn't gather 1 keys, rescheduling {\"('xarray-DEPTH-f8a0f43e839eead34589b4da32f05b82', 0)\": []}\n",
      "distributed.client - WARNING - Couldn't gather 1 keys, rescheduling {\"('xarray-DEPTH-f8a0f43e839eead34589b4da32f05b82', 0)\": []}\n",
      "distributed.client - WARNING - Couldn't gather 1 keys, rescheduling {\"('xarray-DEPTH-f8a0f43e839eead34589b4da32f05b82', 0)\": []}\n",
      "distributed.client - WARNING - Couldn't gather 1 keys, rescheduling {\"('xarray-DEPTH-f8a0f43e839eead34589b4da32f05b82', 0)\": []}\n",
      "distributed.client - WARNING - Couldn't gather 1 keys, rescheduling {\"('xarray-DEPTH-f8a0f43e839eead34589b4da32f05b82', 0)\": []}\n",
      "distributed.client - WARNING - Couldn't gather 1 keys, rescheduling {\"('xarray-DEPTH-f8a0f43e839eead34589b4da32f05b82', 0)\": []}\n",
      "distributed.client - WARNING - Couldn't gather 1 keys, rescheduling {\"('xarray-DEPTH-f8a0f43e839eead34589b4da32f05b82', 0)\": []}\n",
      "distributed.client - WARNING - Couldn't gather 1 keys, rescheduling {\"('xarray-DEPTH-f8a0f43e839eead34589b4da32f05b82', 0)\": []}\n",
      "distributed.client - WARNING - Couldn't gather 1 keys, rescheduling {\"('xarray-DEPTH-f8a0f43e839eead34589b4da32f05b82', 0)\": []}\n",
      "distributed.client - WARNING - Couldn't gather 1 keys, rescheduling {\"('xarray-DEPTH-f8a0f43e839eead34589b4da32f05b82', 0)\": []}\n",
      "distributed.client - WARNING - Couldn't gather 1 keys, rescheduling {\"('xarray-DEPTH-f8a0f43e839eead34589b4da32f05b82', 0)\": []}\n",
      "distributed.client - WARNING - Couldn't gather 1 keys, rescheduling {\"('xarray-DEPTH-f8a0f43e839eead34589b4da32f05b82', 0)\": []}\n",
      "distributed.client - WARNING - Couldn't gather 1 keys, rescheduling {\"('xarray-DEPTH-f8a0f43e839eead34589b4da32f05b82', 0)\": []}\n",
      "distributed.client - WARNING - Couldn't gather 1 keys, rescheduling {\"('xarray-DEPTH-f8a0f43e839eead34589b4da32f05b82', 0)\": []}\n",
      "distributed.client - WARNING - Couldn't gather 1 keys, rescheduling {\"('xarray-DEPTH-f8a0f43e839eead34589b4da32f05b82', 0)\": []}\n",
      "distributed.client - WARNING - Couldn't gather 1 keys, rescheduling {\"('xarray-DEPTH-f8a0f43e839eead34589b4da32f05b82', 0)\": []}\n",
      "distributed.client - WARNING - Couldn't gather 1 keys, rescheduling {\"('xarray-DEPTH-f8a0f43e839eead34589b4da32f05b82', 0)\": []}\n",
      "distributed.client - WARNING - Couldn't gather 1 keys, rescheduling {\"('xarray-DEPTH-f8a0f43e839eead34589b4da32f05b82', 0)\": []}\n",
      "distributed.client - WARNING - Couldn't gather 1 keys, rescheduling {\"('xarray-DEPTH-f8a0f43e839eead34589b4da32f05b82', 0)\": []}\n",
      "distributed.client - WARNING - Couldn't gather 1 keys, rescheduling {\"('xarray-DEPTH-f8a0f43e839eead34589b4da32f05b82', 0)\": []}\n",
      "distributed.client - WARNING - Couldn't gather 1 keys, rescheduling {\"('xarray-DEPTH-f8a0f43e839eead34589b4da32f05b82', 0)\": []}\n",
      "distributed.client - WARNING - Couldn't gather 1 keys, rescheduling {\"('xarray-DEPTH-f8a0f43e839eead34589b4da32f05b82', 0)\": []}\n",
      "distributed.client - WARNING - Couldn't gather 1 keys, rescheduling {\"('xarray-DEPTH-f8a0f43e839eead34589b4da32f05b82', 0)\": []}\n",
      "distributed.client - WARNING - Couldn't gather 1 keys, rescheduling {\"('xarray-DEPTH-f8a0f43e839eead34589b4da32f05b82', 0)\": []}\n",
      "distributed.client - WARNING - Couldn't gather 1 keys, rescheduling {\"('xarray-DEPTH-f8a0f43e839eead34589b4da32f05b82', 0)\": []}\n",
      "distributed.client - WARNING - Couldn't gather 1 keys, rescheduling {\"('xarray-DEPTH-f8a0f43e839eead34589b4da32f05b82', 0)\": []}\n",
      "distributed.client - WARNING - Couldn't gather 1 keys, rescheduling {\"('xarray-DEPTH-f8a0f43e839eead34589b4da32f05b82', 0)\": []}\n",
      "distributed.client - WARNING - Couldn't gather 1 keys, rescheduling {\"('xarray-DEPTH-f8a0f43e839eead34589b4da32f05b82', 0)\": []}\n",
      "distributed.client - WARNING - Couldn't gather 1 keys, rescheduling {\"('xarray-DEPTH-f8a0f43e839eead34589b4da32f05b82', 0)\": []}\n",
      "distributed.client - WARNING - Couldn't gather 1 keys, rescheduling {\"('xarray-DEPTH-f8a0f43e839eead34589b4da32f05b82', 0)\": []}\n",
      "distributed.client - WARNING - Couldn't gather 1 keys, rescheduling {\"('xarray-DEPTH-f8a0f43e839eead34589b4da32f05b82', 0)\": []}\n",
      "distributed.client - WARNING - Couldn't gather 1 keys, rescheduling {\"('xarray-DEPTH-f8a0f43e839eead34589b4da32f05b82', 0)\": []}\n",
      "distributed.client - WARNING - Couldn't gather 1 keys, rescheduling {\"('xarray-DEPTH-f8a0f43e839eead34589b4da32f05b82', 0)\": []}\n",
      "distributed.client - WARNING - Couldn't gather 1 keys, rescheduling {\"('xarray-DEPTH-f8a0f43e839eead34589b4da32f05b82', 0)\": []}\n",
      "distributed.client - WARNING - Couldn't gather 1 keys, rescheduling {\"('xarray-DEPTH-f8a0f43e839eead34589b4da32f05b82', 0)\": []}\n"
     ]
    }
   ],
   "source": [
    "# Artificially increase the size of the dataset:\n",
    "# X = xr.concat([RES] * 1000, dim='N_PROF')"
   ]
  },
  {
   "cell_type": "code",
   "execution_count": 41,
   "metadata": {},
   "outputs": [
    {
     "name": "stdout",
     "output_type": "stream",
     "text": [
      "<xarray.DataArray 'ARGO' (N_FEATURES: 2, N_PROF: 128910000)>\n",
      "dask.array<shape=(2, 128910000), dtype=float32, chunksize=(1, 10000)>\n",
      "Coordinates:\n",
      "    DEPTH      (N_FEATURES) float32 0.0 -1000.0\n",
      "    LATITUDE   (N_PROF) float32 dask.array<shape=(128910000,), chunksize=(10000,)>\n",
      "    LONGITUDE  (N_PROF) float32 dask.array<shape=(128910000,), chunksize=(10000,)>\n",
      "    TIME       (N_PROF) datetime64[ns] dask.array<shape=(128910000,), chunksize=(10000,)>\n",
      "Dimensions without coordinates: N_FEATURES, N_PROF\n",
      "Attributes:\n",
      "    feature_0:  TEMP at 0.00m depth\n",
      "    feature_1:  TEMP at -1000.00m depth\n",
      "This dataset holds: 1.031 GB\n"
     ]
    }
   ],
   "source": [
    "print(X)\n",
    "print('This dataset holds: %.3f GB' % (X.nbytes / 1e9))"
   ]
  },
  {
   "cell_type": "code",
   "execution_count": null,
   "metadata": {},
   "outputs": [],
   "source": [
    "scaler = wrap(StandardScaler(),sample_dim='N_PROF')\n",
    "%time scaler.fit(X)\n",
    "print(scaler.estimator_.mean_\n",
    "print(scaler.estimator_.scale_)"
   ]
  },
  {
   "cell_type": "code",
   "execution_count": null,
   "metadata": {},
   "outputs": [],
   "source": []
  }
 ],
 "metadata": {
  "kernelspec": {
   "display_name": "obidam36",
   "language": "python",
   "name": "obidam36"
  },
  "language_info": {
   "codemirror_mode": {
    "name": "ipython",
    "version": 3
   },
   "file_extension": ".py",
   "mimetype": "text/x-python",
   "name": "python",
   "nbconvert_exporter": "python",
   "pygments_lexer": "ipython3",
   "version": "3.6.6"
  }
 },
 "nbformat": 4,
 "nbformat_minor": 2
}

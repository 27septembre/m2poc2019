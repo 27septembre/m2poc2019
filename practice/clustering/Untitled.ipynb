{
 "cells": [
  {
   "cell_type": "code",
   "execution_count": 3,
   "metadata": {},
   "outputs": [
    {
     "data": {
      "text/html": [
       "<table style=\"border: 2px solid white;\">\n",
       "<tr>\n",
       "<td style=\"vertical-align: top; border: 0px solid white\">\n",
       "<h3>Client</h3>\n",
       "<ul>\n",
       "  <li><b>Scheduler: </b>tcp://127.0.0.1:60612\n",
       "  <li><b>Dashboard: </b><a href='http://127.0.0.1:8787/status' target='_blank'>http://127.0.0.1:8787/status</a>\n",
       "</ul>\n",
       "</td>\n",
       "<td style=\"vertical-align: top; border: 0px solid white\">\n",
       "<h3>Cluster</h3>\n",
       "<ul>\n",
       "  <li><b>Workers: </b>32</li>\n",
       "  <li><b>Cores: </b>32</li>\n",
       "  <li><b>Memory: </b>67.48 GB</li>\n",
       "</ul>\n",
       "</td>\n",
       "</tr>\n",
       "</table>"
      ],
      "text/plain": [
       "<Client: scheduler='tcp://127.0.0.1:60612' processes=32 cores=32>"
      ]
     },
     "execution_count": 3,
     "metadata": {},
     "output_type": "execute_result"
    }
   ],
   "source": [
    "import xarray as xr\n",
    "from sklearn_xarray import wrap\n",
    "from dask_ml.preprocessing import StandardScaler\n",
    "import intake\n",
    "from dask.distributed import Client\n",
    "# client = Client(processes=False)\n",
    "# client = Client(threads_per_worker=4, n_workers=10, processes=False)\n",
    "client = Client(\"tcp://127.0.0.1:60612\")\n",
    "client"
   ]
  },
  {
   "cell_type": "code",
   "execution_count": 2,
   "metadata": {},
   "outputs": [],
   "source": [
    "# client.close()"
   ]
  },
  {
   "cell_type": "code",
   "execution_count": 11,
   "metadata": {},
   "outputs": [
    {
     "name": "stdout",
     "output_type": "stream",
     "text": [
      "This dataset holds: 0.626 GB\n",
      "<xarray.Dataset>\n",
      "Dimensions:    (DEPTH: 302, N_PROF: 128910)\n",
      "Coordinates:\n",
      "  * DEPTH      (DEPTH) float32 0.0 -5.0 -10.0 -15.0 ... -1495.0 -1500.0 -1505.0\n",
      "    LATITUDE   (N_PROF) float32 dask.array<shape=(128910,), chunksize=(67010,)>\n",
      "    LONGITUDE  (N_PROF) float32 dask.array<shape=(128910,), chunksize=(67010,)>\n",
      "    TIME       (N_PROF) datetime64[ns] dask.array<shape=(128910,), chunksize=(64455,)>\n",
      "Dimensions without coordinates: N_PROF\n",
      "Data variables:\n",
      "    BRV2       (N_PROF, DEPTH) float32 dask.array<shape=(128910, 302), chunksize=(67010, 302)>\n",
      "    DBINDEX    (N_PROF) float64 dask.array<shape=(128910,), chunksize=(67010,)>\n",
      "    PSAL       (N_PROF, DEPTH) float32 dask.array<shape=(128910, 302), chunksize=(67010, 302)>\n",
      "    SIG0       (N_PROF, DEPTH) float32 dask.array<shape=(128910, 302), chunksize=(67010, 302)>\n",
      "    TEMP       (N_PROF, DEPTH) float32 dask.array<shape=(128910, 302), chunksize=(67010, 302)>\n",
      "Attributes:\n",
      "    Title:             VENTHSAL-IA\n",
      "    conventions:       CF-1.6\n",
      "    conventions_help:  http://cf-pcmdi.llnl.gov/documents/cf-conventions/1.6/...\n",
      "    createdBy:         gmaze\n",
      "    createdWith:       /home8/homedir3/perso/gmaze/work/Projects/GMM/Argo-pro...\n",
      "    creationDate:      2019/01/22 22:07:00\n",
      "    dataset_file:      /home8/homedir3/perso/gmaze/data/ARGO/copoda_db/setup_...\n",
      "    institution:       LPO/Ifremer\n",
      "    long_title:        Argo subset of plain profiles for VENTHSAL-IA\n",
      "    source:            VENTHSAL-Argo\n",
      "    subset_ID:         1-2\n",
      "    subset_maxnumber:  3.0\n"
     ]
    }
   ],
   "source": [
    "catalog_url = 'https://raw.githubusercontent.com/obidam/m2poc2019/master/m2poc_data_catalog.yml'\n",
    "ds = intake.Catalog(catalog_url).argo_global_homogeneous_sdl.read_chunked()\n",
    "print('This dataset holds: %.3f GB' % (ds.nbytes / 1e9))\n",
    "print(ds)"
   ]
  },
  {
   "cell_type": "code",
   "execution_count": 4,
   "metadata": {},
   "outputs": [
    {
     "name": "stdout",
     "output_type": "stream",
     "text": [
      "<xarray.DataArray 'ARGO' (feature: 2, N_PROF: 128910)>\n",
      "dask.array<shape=(2, 128910), dtype=float32, chunksize=(1, 10000)>\n",
      "Coordinates:\n",
      "    LATITUDE   (N_PROF) float32 dask.array<shape=(128910,), chunksize=(10000,)>\n",
      "    LONGITUDE  (N_PROF) float32 dask.array<shape=(128910,), chunksize=(10000,)>\n",
      "    TIME       (N_PROF) datetime64[ns] dask.array<shape=(128910,), chunksize=(10000,)>\n",
      "    DEPTH      (feature) float32 dask.array<shape=(2,), chunksize=(2,)>\n",
      "Dimensions without coordinates: feature, N_PROF\n",
      "Attributes:\n",
      "    feature_0:  TEMP at 0.00m depth\n",
      "    feature_1:  TEMP at -1000.00m depth\n"
     ]
    }
   ],
   "source": [
    "feat_0 = ds.TEMP.sel(DEPTH=0, method='nearest')\n",
    "feat_1 = ds.TEMP.sel(DEPTH=-1000, method='nearest')\n",
    "RES = xr.concat([feat_0, feat_1], dim='feature').chunk(chunks={'N_PROF':10000})\n",
    "RES = RES.rename('ARGO')\n",
    "# Remove obsolete attributes:\n",
    "for a in RES.attrs.copy(): \n",
    "    del RES.attrs[a]\n",
    "# Add feature names:\n",
    "RES.attrs['feature_0'] = \"%s at %0.2fm depth\"%(feat_0.name,feat_0['DEPTH'])\n",
    "RES.attrs['feature_1'] = \"%s at %0.2fm depth\"%(feat_1.name,feat_1['DEPTH'])\n",
    "# We're good:\n",
    "print(RES)"
   ]
  },
  {
   "cell_type": "code",
   "execution_count": 5,
   "metadata": {},
   "outputs": [
    {
     "name": "stdout",
     "output_type": "stream",
     "text": [
      "(128910, 2)\n"
     ]
    }
   ],
   "source": [
    "X = xr.DataArray(RES.values.T, dims=['sample','feature'])\n",
    "print(X.values.shape)"
   ]
  },
  {
   "cell_type": "code",
   "execution_count": 7,
   "metadata": {},
   "outputs": [
    {
     "name": "stdout",
     "output_type": "stream",
     "text": [
      "CPU times: user 2 ms, sys: 1 ms, total: 3 ms\n",
      "Wall time: 1.53 ms\n",
      "[-9.5641155e-08  2.3862941e-07]\n",
      "[1.        0.9999999]\n"
     ]
    }
   ],
   "source": [
    "scaler = wrap(StandardScaler(), sample_dim='sample')\n",
    "%time scaler.fit(X)\n",
    "print(scaler.estimator_.mean_)\n",
    "print(scaler.estimator_.scale_)"
   ]
  },
  {
   "cell_type": "code",
   "execution_count": 8,
   "metadata": {},
   "outputs": [
    {
     "data": {
      "text/plain": [
       "<xarray.DataArray (sample: 128910, feature: 2)>\n",
       "array([[-1.551811, -1.29166 ],\n",
       "       [-1.82948 , -1.280055],\n",
       "       [-1.588464, -1.29136 ],\n",
       "       ...,\n",
       "       [-1.656578, -0.882205],\n",
       "       [-0.824594, -0.895902],\n",
       "       [-1.067999, -0.828581]], dtype=float32)\n",
       "Dimensions without coordinates: sample, feature"
      ]
     },
     "execution_count": 8,
     "metadata": {},
     "output_type": "execute_result"
    }
   ],
   "source": [
    "scaler.transform(X)"
   ]
  },
  {
   "cell_type": "code",
   "execution_count": 9,
   "metadata": {},
   "outputs": [
    {
     "name": "stdout",
     "output_type": "stream",
     "text": [
      "<xarray.DataArray (sample: 128910, feature: 2)>\n",
      "array([[-1.551811, -1.29166 ],\n",
      "       [-1.82948 , -1.280055],\n",
      "       [-1.588464, -1.29136 ],\n",
      "       ...,\n",
      "       [-1.656578, -0.882205],\n",
      "       [-0.824594, -0.895902],\n",
      "       [-1.067999, -0.828581]], dtype=float32)\n",
      "Dimensions without coordinates: sample, feature\n",
      "This dataset holds: 0.001 GB\n"
     ]
    }
   ],
   "source": [
    "print(X)\n",
    "print('This dataset holds: %.3f GB' % (X.nbytes / 1e9))"
   ]
  },
  {
   "cell_type": "code",
   "execution_count": 12,
   "metadata": {},
   "outputs": [
    {
     "name": "stdout",
     "output_type": "stream",
     "text": [
      "CPU times: user 151 ms, sys: 11 ms, total: 162 ms\n",
      "Wall time: 20.2 s\n"
     ]
    },
    {
     "ename": "AttributeError",
     "evalue": "'EstimatorWrapper' object has no attribute 'estimator_'",
     "output_type": "error",
     "traceback": [
      "\u001b[0;31m---------------------------------------------------------------------------\u001b[0m",
      "\u001b[0;31mAttributeError\u001b[0m                            Traceback (most recent call last)",
      "\u001b[0;32m<ipython-input-12-6782266faf4e>\u001b[0m in \u001b[0;36m<module>\u001b[0;34m\u001b[0m\n\u001b[1;32m      1\u001b[0m \u001b[0mscaler\u001b[0m \u001b[0;34m=\u001b[0m \u001b[0mwrap\u001b[0m\u001b[0;34m(\u001b[0m\u001b[0mStandardScaler\u001b[0m\u001b[0;34m(\u001b[0m\u001b[0;34m)\u001b[0m\u001b[0;34m,\u001b[0m \u001b[0msample_dim\u001b[0m\u001b[0;34m=\u001b[0m\u001b[0;34m'N_PROF'\u001b[0m\u001b[0;34m)\u001b[0m\u001b[0;34m\u001b[0m\u001b[0m\n\u001b[1;32m      2\u001b[0m \u001b[0mget_ipython\u001b[0m\u001b[0;34m(\u001b[0m\u001b[0;34m)\u001b[0m\u001b[0;34m.\u001b[0m\u001b[0mrun_line_magic\u001b[0m\u001b[0;34m(\u001b[0m\u001b[0;34m'time'\u001b[0m\u001b[0;34m,\u001b[0m \u001b[0;34m'scaler.fit(ds)'\u001b[0m\u001b[0;34m)\u001b[0m\u001b[0;34m\u001b[0m\u001b[0m\n\u001b[0;32m----> 3\u001b[0;31m \u001b[0mprint\u001b[0m\u001b[0;34m(\u001b[0m\u001b[0mscaler\u001b[0m\u001b[0;34m.\u001b[0m\u001b[0mestimator_\u001b[0m\u001b[0;34m.\u001b[0m\u001b[0mmean_\u001b[0m\u001b[0;34m)\u001b[0m\u001b[0;34m\u001b[0m\u001b[0m\n\u001b[0m\u001b[1;32m      4\u001b[0m \u001b[0mprint\u001b[0m\u001b[0;34m(\u001b[0m\u001b[0mscaler\u001b[0m\u001b[0;34m.\u001b[0m\u001b[0mestimator_\u001b[0m\u001b[0;34m.\u001b[0m\u001b[0mscale_\u001b[0m\u001b[0;34m)\u001b[0m\u001b[0;34m\u001b[0m\u001b[0m\n",
      "\u001b[0;31mAttributeError\u001b[0m: 'EstimatorWrapper' object has no attribute 'estimator_'"
     ]
    }
   ],
   "source": [
    "scaler = wrap(StandardScaler(), sample_dim='N_PROF')\n",
    "%time scaler.fit(ds)\n",
    "print(scaler.estimator_.mean_)\n",
    "print(scaler.estimator_.scale_)"
   ]
  },
  {
   "cell_type": "code",
   "execution_count": null,
   "metadata": {},
   "outputs": [],
   "source": []
  }
 ],
 "metadata": {
  "kernelspec": {
   "display_name": "obidam36",
   "language": "python",
   "name": "obidam36"
  },
  "language_info": {
   "codemirror_mode": {
    "name": "ipython",
    "version": 3
   },
   "file_extension": ".py",
   "mimetype": "text/x-python",
   "name": "python",
   "nbconvert_exporter": "python",
   "pygments_lexer": "ipython3",
   "version": "3.6.6"
  }
 },
 "nbformat": 4,
 "nbformat_minor": 2
}

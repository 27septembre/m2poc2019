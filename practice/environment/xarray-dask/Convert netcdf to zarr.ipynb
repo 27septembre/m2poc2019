{
 "cells": [
  {
   "cell_type": "code",
   "execution_count": 7,
   "metadata": {},
   "outputs": [],
   "source": [
    "import os\n",
    "import glob\n",
    "import xarray as xr"
   ]
  },
  {
   "cell_type": "code",
   "execution_count": 3,
   "metadata": {},
   "outputs": [],
   "source": [
    "ncroot = '/home8/homedir3/perso/gmaze/git/github/gmaze/lopsdata/clustering/data/'\n",
    "ncfile = 'Global_Argo_VerticalMean_Temperature.nc'\n",
    "ds = xr.open_dataset(os.path.join(ncroot,ncfile))\n",
    "ds.to_zarr(os.path.join(ncroot,ncfile.replace('.nc','.zarr')))"
   ]
  },
  {
   "cell_type": "code",
   "execution_count": 16,
   "metadata": {},
   "outputs": [
    {
     "name": "stdout",
     "output_type": "stream",
     "text": [
      "<xarray.Dataset>\n",
      "Dimensions:    (DEPTH: 302, N_PROF: 128910)\n",
      "Coordinates:\n",
      "  * DEPTH      (DEPTH) float32 0.0 -5.0 -10.0 -15.0 ... -1495.0 -1500.0 -1505.0\n",
      "    LATITUDE   (N_PROF) float32 dask.array<shape=(128910,), chunksize=(67010,)>\n",
      "    LONGITUDE  (N_PROF) float32 dask.array<shape=(128910,), chunksize=(67010,)>\n",
      "    TIME       (N_PROF) datetime64[ns] dask.array<shape=(128910,), chunksize=(67010,)>\n",
      "Dimensions without coordinates: N_PROF\n",
      "Data variables:\n",
      "    DBINDEX    (N_PROF) float64 dask.array<shape=(128910,), chunksize=(67010,)>\n",
      "    TEMP       (N_PROF, DEPTH) float32 dask.array<shape=(128910, 302), chunksize=(67010, 302)>\n",
      "    PSAL       (N_PROF, DEPTH) float32 dask.array<shape=(128910, 302), chunksize=(67010, 302)>\n",
      "    SIG0       (N_PROF, DEPTH) float32 dask.array<shape=(128910, 302), chunksize=(67010, 302)>\n",
      "    BRV2       (N_PROF, DEPTH) float32 dask.array<shape=(128910, 302), chunksize=(67010, 302)>\n",
      "Attributes:\n",
      "    Title:             VENTHSAL-IA\n",
      "    long_title:        Argo subset of plain profiles for VENTHSAL-IA\n",
      "    institution:       LPO/Ifremer\n",
      "    source:            VENTHSAL-Argo\n",
      "    dataset_file:      /home8/homedir3/perso/gmaze/data/ARGO/copoda_db/setup_...\n",
      "    subset_maxnumber:  3.0\n",
      "    subset_ID:         1-2\n",
      "    conventions:       CF-1.6\n",
      "    conventions_help:  http://cf-pcmdi.llnl.gov/documents/cf-conventions/1.6/...\n",
      "    creationDate:      2019/01/22 22:07:00\n",
      "    createdBy:         gmaze\n",
      "    createdWith:       /home8/homedir3/perso/gmaze/work/Projects/GMM/Argo-pro...\n"
     ]
    },
    {
     "data": {
      "text/plain": [
       "<xarray.backends.zarr.ZarrStore at 0x7f54f2b4f0b8>"
      ]
     },
     "execution_count": 16,
     "metadata": {},
     "output_type": "execute_result"
    }
   ],
   "source": [
    "ncroot = '/home8/homedir3/perso/gmaze/git/github/gmaze/lopsdata/clustering/data/'\n",
    "ncfiles = ['GLOB_HOMOGENEOUS_variables_3subset_1.nc','GLOB_HOMOGENEOUS_variables_3subset_2.nc']\n",
    "ds = xr.open_mfdataset([os.path.join(ncroot,i) for i in ncfiles])\n",
    "ds = ds.set_coords({'LATITUDE','LONGITUDE','TIME'})\n",
    "ds.attrs['subset_ID'] = '1-2'\n",
    "ds.attrs['creationDate'] = '2019/01/22 22:07:00'\n",
    "print(ds)\n",
    "ds.to_zarr(os.path.join(ncroot,'GLOB_HOMOGENEOUS_variables.zarr'))"
   ]
  },
  {
   "cell_type": "code",
   "execution_count": 17,
   "metadata": {},
   "outputs": [],
   "source": []
  },
  {
   "cell_type": "code",
   "execution_count": null,
   "metadata": {},
   "outputs": [],
   "source": []
  }
 ],
 "metadata": {
  "kernelspec": {
   "display_name": "obidam36",
   "language": "python",
   "name": "obidam36"
  },
  "language_info": {
   "codemirror_mode": {
    "name": "ipython",
    "version": 3
   },
   "file_extension": ".py",
   "mimetype": "text/x-python",
   "name": "python",
   "nbconvert_exporter": "python",
   "pygments_lexer": "ipython3",
   "version": "3.6.6"
  }
 },
 "nbformat": 4,
 "nbformat_minor": 2
}
